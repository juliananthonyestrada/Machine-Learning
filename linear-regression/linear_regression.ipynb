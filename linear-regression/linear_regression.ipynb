{
 "cells": [
  {
   "cell_type": "markdown",
   "id": "20e96f6b",
   "metadata": {},
   "source": [
    "### Step 0 - Install necessary packages"
   ]
  },
  {
   "cell_type": "code",
   "execution_count": 1,
   "id": "90c30512",
   "metadata": {},
   "outputs": [],
   "source": [
    "import pandas as pd\n",
    "import numpy as np\n",
    "import sklearn as sk\n",
    "import matplotlib.pyplot as plt"
   ]
  },
  {
   "cell_type": "markdown",
   "id": "2379a778",
   "metadata": {},
   "source": [
    "### Step 1 - Read and explore the data"
   ]
  },
  {
   "cell_type": "code",
   "execution_count": null,
   "id": "a774b48d",
   "metadata": {},
   "outputs": [
    {
     "name": "stdout",
     "output_type": "stream",
     "text": [
      "   case  site  Pop sex  age  hdlngth  skullw  totlngth  taill  footlgth  \\\n",
      "0     1     1  Vic   m  8.0     94.1    60.4      89.0   36.0      74.5   \n",
      "1     2     1  Vic   f  6.0     92.5    57.6      91.5   36.5      72.5   \n",
      "2     3     1  Vic   f  6.0     94.0    60.0      95.5   39.0      75.4   \n",
      "3     4     1  Vic   f  6.0     93.2    57.1      92.0   38.0      76.1   \n",
      "4     5     1  Vic   f  2.0     91.5    56.3      85.5   36.0      71.0   \n",
      "\n",
      "   earconch   eye  chest  belly  \n",
      "0      54.5  15.2   28.0   36.0  \n",
      "1      51.2  16.0   28.5   33.0  \n",
      "2      51.9  15.5   30.0   34.0  \n",
      "3      52.2  15.2   28.0   34.0  \n",
      "4      53.2  15.1   28.5   33.0  \n"
     ]
    }
   ],
   "source": [
    "df = pd.read_csv(\"data/possum.csv\")\n",
    "\n",
    "# Display the first few rows of the DataFrame\n",
    "print(df.head())"
   ]
  },
  {
   "cell_type": "code",
   "execution_count": 3,
   "id": "328ab278",
   "metadata": {},
   "outputs": [
    {
     "name": "stdout",
     "output_type": "stream",
     "text": [
      "Index(['case', 'site', 'Pop', 'sex', 'age', 'hdlngth', 'skullw', 'totlngth',\n",
      "       'taill', 'footlgth', 'earconch', 'eye', 'chest', 'belly'],\n",
      "      dtype='object')\n",
      "(104, 14)\n"
     ]
    }
   ],
   "source": [
    "print(df.columns)\n",
    "print(df.shape)"
   ]
  },
  {
   "cell_type": "markdown",
   "id": "9bc055ce",
   "metadata": {},
   "source": [
    "#### Look for patters or trends amongst features and our target variable skull width (skullw)"
   ]
  },
  {
   "cell_type": "code",
   "execution_count": 4,
   "id": "a364e243",
   "metadata": {},
   "outputs": [
    {
     "data": {
      "text/plain": [
       "<matplotlib.collections.PathCollection at 0x15dc9b020>"
      ]
     },
     "execution_count": 4,
     "metadata": {},
     "output_type": "execute_result"
    },
    {
     "data": {
      "image/png": "[encoded data removed]",
      "text/plain": [
       "<Figure size 640x480 with 1 Axes>"
      ]
     },
     "metadata": {},
     "output_type": "display_data"
    }
   ],
   "source": [
    "plt.scatter(df['hdlngth'], df['skullw'])"
   ]
  },
  {
   "cell_type": "markdown",
   "id": "18c71ffa",
   "metadata": {},
   "source": [
    "#### We notice a trend in head length and skull width. We will create a model that will predict the width of a possum's skull using the length of its head"
   ]
  },
  {
   "cell_type": "markdown",
   "id": "353f6916",
   "metadata": {},
   "source": [
    "### Step 2 - Split the data"
   ]
  },
  {
   "cell_type": "code",
   "execution_count": 13,
   "id": "be67a85c",
   "metadata": {},
   "outputs": [
    {
     "name": "stdout",
     "output_type": "stream",
     "text": [
      "Training set shape: (73,) (73,)\n",
      "Validation set shape: (10,) (10,)\n",
      "Test set shape: (21,) (21,)\n"
     ]
    }
   ],
   "source": [
    "from sklearn.model_selection import train_test_split\n",
    "\n",
    "# X will represent our feature(s) -> head length\n",
    "# y will represent our target variable -> skull width\n",
    "\n",
    "X = df['hdlngth']\n",
    "y = df['skullw']\n",
    "\n",
    "# Split the data into one set containing the training and validation data (80%) \n",
    "# and another set containing the testing data (20%)\n",
    "X_train_val, X_test, y_train_val, y_test = train_test_split(X, y, test_size=0.2, random_state=42)\n",
    "\n",
    "# Split the training and validation data into their own sets \n",
    "# Note -> the validation data should be 10% of the original data \n",
    "# so it is 12% of the training and validation data set\n",
    "X_train, X_val, y_train, y_val = train_test_split(X_train_val, y_train_val, test_size=0.12, random_state=42)\n",
    "\n",
    "# Display the shapes of the resulting datasets\n",
    "print(\"Training set shape:\", X_train.shape, y_train.shape)\n",
    "print(\"Validation set shape:\", X_val.shape, y_val.shape)\n",
    "print(\"Test set shape:\", X_test.shape, y_test.shape)    "
   ]
  },
  {
   "cell_type": "markdown",
   "id": "99fbdc5d",
   "metadata": {},
   "source": [
    "### Step 3 - Preprocess the data"
   ]
  },
  {
   "cell_type": "markdown",
   "id": "3a230aa4",
   "metadata": {},
   "source": [
    "#### Because we are building a linear regression model, we must handle missing values"
   ]
  },
  {
   "cell_type": "code",
   "execution_count": 7,
   "id": "dd8b4268",
   "metadata": {},
   "outputs": [
    {
     "name": "stdout",
     "output_type": "stream",
     "text": [
      "0 0\n",
      "0 0\n",
      "0 0\n"
     ]
    }
   ],
   "source": [
    "print(pd.isna(X_train).sum(), pd.isna(y_train).sum())\n",
    "print(pd.isna(X_val).sum(), pd.isna(y_val).sum())\n",
    "print(pd.isna(X_test).sum(), pd.isna(y_test).sum())"
   ]
  },
  {
   "cell_type": "markdown",
   "id": "4bc31c8b",
   "metadata": {},
   "source": [
    "#### Because there are no missing values, no other preprocessing steps must be done"
   ]
  },
  {
   "cell_type": "markdown",
   "id": "b33a5da9",
   "metadata": {},
   "source": [
    "### Step 4 - Train the model"
   ]
  },
  {
   "cell_type": "code",
   "execution_count": null,
   "id": "1b1c67c9",
   "metadata": {},
   "outputs": [
    {
     "name": "stdout",
     "output_type": "stream",
     "text": [
      "Mean Squared Error (Validation): 3.33306555005245\n"
     ]
    }
   ],
   "source": [
    "from sklearn.linear_model import LinearRegression\n",
    "\n",
    "model = LinearRegression()\n",
    "\n",
    "# Fit the model to the training datam\n",
    "model.fit(X_train.values.reshape(-1, 1), y_train)\n",
    "\n",
    "# Predict the values for the validation set\n",
    "y_val_pred = model.predict(X_val.values.reshape(-1, 1))\n",
    "\n",
    "# Calculate the mean squared error for the validation set \n",
    "# -> difference between the predicted and actual values\n",
    "\n",
    "from sklearn.metrics import mean_squared_error\n",
    "\n",
    "mse = mean_squared_error(y_val, y_val_pred)\n",
    "print(\"Mean Squared Error (Validation):\", mse)"
   ]
  },
  {
   "cell_type": "markdown",
   "id": "2c76592a",
   "metadata": {},
   "source": [
    "### Test model against test set"
   ]
  },
  {
   "cell_type": "code",
   "execution_count": 20,
   "id": "c43b1a6e",
   "metadata": {},
   "outputs": [
    {
     "name": "stdout",
     "output_type": "stream",
     "text": [
      "Mean Squared Error (Test): 3.272368473535185\n"
     ]
    }
   ],
   "source": [
    "y_test_pred = model.predict(X_test.values.reshape(-1, 1))\n",
    "test_mse = mean_squared_error(y_test, y_test_pred)\n",
    "print(\"Mean Squared Error (Test):\", test_mse)"
   ]
  }
 ],
 "metadata": {
  "kernelspec": {
   "display_name": "lin_reg_venv",
   "language": "python",
   "name": "python3"
  },
  "language_info": {
   "codemirror_mode": {
    "name": "ipython",
    "version": 3
   },
   "file_extension": ".py",
   "mimetype": "text/x-python",
   "name": "python",
   "nbconvert_exporter": "python",
   "pygments_lexer": "ipython3",
   "version": "3.12.4"
  }
 },
 "nbformat": 4,
 "nbformat_minor": 5
}
